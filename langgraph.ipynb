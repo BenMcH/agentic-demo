{
 "cells": [
  {
   "cell_type": "code",
   "execution_count": null,
   "metadata": {},
   "outputs": [],
   "source": [
    "\n",
    "from langchain_openai import ChatOpenAI\n",
    "\n",
    "model = ChatOpenAI(model=\"gpt-4o-mini\",\n",
    "                   api_key=input(\"Enter your OpenAI API key: \"))"
   ]
  },
  {
   "cell_type": "code",
   "execution_count": 56,
   "metadata": {},
   "outputs": [
    {
     "data": {
      "text/plain": [
       "\"I don't have real-time access to the internet or current data, so I can't provide you with the latest content from Hacker News or any other website. However, you can easily check the front page of Hacker News by visiting their website at [news.ycombinator.com](https://news.ycombinator.com). If you have any specific topics or articles in mind, feel free to ask!\""
      ]
     },
     "execution_count": 56,
     "metadata": {},
     "output_type": "execute_result"
    }
   ],
   "source": [
    "model.invoke(\"What's on the front page of hacker news?\").content"
   ]
  },
  {
   "cell_type": "code",
   "execution_count": 57,
   "metadata": {},
   "outputs": [],
   "source": [
    "from langchain_core.tools import tool\n",
    "import requests\n",
    "\n",
    "@tool\n",
    "def read_webpage(url: str) -> str:\n",
    "    \"\"\"\n",
    "    Fetch a url's content and return it as a string\n",
    "    \"\"\"\n",
    "    print(\"Fetching content from\", url)\n",
    "    response = requests.get(url)\n",
    "    \n",
    "    return response.text\n",
    "\n",
    "\n",
    "tools = [read_webpage]"
   ]
  },
  {
   "cell_type": "code",
   "execution_count": 58,
   "metadata": {},
   "outputs": [],
   "source": [
    "tool_model = model.bind_tools(tools)"
   ]
  },
  {
   "cell_type": "code",
   "execution_count": 59,
   "metadata": {},
   "outputs": [
    {
     "data": {
      "text/plain": [
       "AIMessage(content='', additional_kwargs={'tool_calls': [{'id': 'call_gu9a4Rj4PXXEoGp0b3dvXdDi', 'function': {'arguments': '{\"url\":\"https://news.ycombinator.com/\"}', 'name': 'read_webpage'}, 'type': 'function'}], 'refusal': None}, response_metadata={'token_usage': {'completion_tokens': 24, 'prompt_tokens': 60, 'total_tokens': 84, 'completion_tokens_details': {'accepted_prediction_tokens': 0, 'audio_tokens': 0, 'reasoning_tokens': 0, 'rejected_prediction_tokens': 0}, 'prompt_tokens_details': {'audio_tokens': 0, 'cached_tokens': 0}}, 'model_name': 'gpt-4o-mini-2024-07-18', 'system_fingerprint': 'fp_f2cd28694a', 'finish_reason': 'tool_calls', 'logprobs': None}, id='run-78c65fd4-10d8-49fb-ae0a-b126cdc88eee-0', tool_calls=[{'name': 'read_webpage', 'args': {'url': 'https://news.ycombinator.com/'}, 'id': 'call_gu9a4Rj4PXXEoGp0b3dvXdDi', 'type': 'tool_call'}], usage_metadata={'input_tokens': 60, 'output_tokens': 24, 'total_tokens': 84, 'input_token_details': {'audio': 0, 'cache_read': 0}, 'output_token_details': {'audio': 0, 'reasoning': 0}})"
      ]
     },
     "execution_count": 59,
     "metadata": {},
     "output_type": "execute_result"
    }
   ],
   "source": [
    "tool_model.invoke(\"what's on the front page of hacker news?\")"
   ]
  },
  {
   "cell_type": "code",
   "execution_count": 60,
   "metadata": {},
   "outputs": [],
   "source": [
    "from langchain_core.output_parsers import StrOutputParser\n",
    "from langchain_core.messages import HumanMessage, AIMessage\n",
    "from langgraph.graph import END, START, StateGraph, MessagesState\n",
    "from langgraph.prebuilt import ToolNode\n",
    "\n",
    "system_prompt = \"\"\"\n",
    "    You must provide your answers in a format readable in a terminal. Do not provide any text other than the answer.\n",
    "    Your responses must not exceed 120 characters in width but can be multiple lines.\n",
    "\"\"\"\n",
    "\n",
    "\n",
    "def call_agent(state: MessagesState):\n",
    "    response = tool_model.invoke([\n",
    "        (\"system\", system_prompt),\n",
    "        *state[\"messages\"]\n",
    "    ])\n",
    "\n",
    "    return {\n",
    "        \"messages\": [response]\n",
    "    }\n",
    "\n",
    "\n",
    "def after_prompt_edge(state: MessagesState):\n",
    "    if state[\"messages\"][-1].tool_calls:\n",
    "        return \"tools\"\n",
    "    return END\n",
    "\n",
    "\n",
    "tool_node = ToolNode(tools)\n",
    "\n",
    "workflow = StateGraph(MessagesState)\n",
    "\n",
    "workflow.add_node(\"prompt\", call_agent)\n",
    "\n",
    "workflow.add_node(\"tools\", tool_node)\n",
    "\n",
    "workflow.add_edge(START, \"prompt\")\n",
    "workflow.add_edge(\"tools\", \"prompt\")\n",
    "workflow.add_conditional_edges(\"prompt\", after_prompt_edge)\n",
    "\n",
    "app = workflow.compile()"
   ]
  },
  {
   "cell_type": "code",
   "execution_count": 61,
   "metadata": {},
   "outputs": [
    {
     "name": "stdout",
     "output_type": "stream",
     "text": [
      "Fetching content from https://news.ycombinator.com/\n",
      "1. [28h Days: year 1 update](https://sidhion.com/blog/28h_days_update_1/) - [Comments](https://news.ycombinator.com/item?id=42639779)  \n",
      "2. [NeuralSVG: An Implicit Representation for Text-to-Vector Generation](https://sagipolaczek.github.io/NeuralSVG/) - [Comments](https://news.ycombinator.com/item?id=42636873)  \n",
      "3. [Orca that carried dead calf for weeks appears to be in mourning again](https://www.nytimes.com/2025/01/02/us/mother-orca-tahlequah-calf-dead.html) - [Comments](https://news.ycombinator.com/item?id=42599522)  \n",
      "4. [Cracking a 512-bit DKIM key for less than $8 in the cloud](https://dmarcchecker.app/articles/crack-512-bit-dkim-rsa-key) - [Comments](https://news.ycombinator.com/item?id=42633501)  \n",
      "5. [Show HN: Atlas of Space](https://atlasof.space/) - [Comments](https://news.ycombinator.com/item?id=42634787)  \n",
      "6. [Show HN: Stagehand – an open source browser automation framework powered by AI](https://github.com/browserbase/stagehand) - [Comments](https://news.ycombinator.com/item?id=42635942)  \n",
      "7. [I had to take down my course-swapping site or be expelled](https://www.linkedin.com/posts/jdkaim_github-jdkaimhuskyswap-huskyswap-project-activity-7282609173316415488-1jdb) - [Comments](https://news.ycombinator.com/item?id=42638626)  \n",
      "8. [Fidget](https://www.mattkeeter.com/projects/fidget/) - [Comments](https://news.ycombinator.com/item?id=42634624)  \n",
      "9. [Operating System in 1,000 Lines – Intro](https://operating-system-in-1000-lines.vercel.app/en) - [Comments](https://news.ycombinator.com/item?id=42631873)  \n",
      "10. [Bringing SerenityOS to real hardware, one driver at a time](https://sdomi.pl/weblog/23-serenityos-realhw/) - [Comments](https://news.ycombinator.com/item?id=42636086)  \n"
     ]
    }
   ],
   "source": [
    "messages = [\n",
    "    HumanMessage(content=\"Return the top 10 stories on hacker news, their titles, URLs, and comment URLs.\")\n",
    "]\n",
    "\n",
    "final_state = app.invoke(\n",
    "    {\"messages\": messages},\n",
    ")\n",
    "\n",
    "messages.append(final_state['messages'][-1])\n",
    "\n",
    "print(final_state['messages'][-1].content)"
   ]
  },
  {
   "cell_type": "code",
   "execution_count": 63,
   "metadata": {},
   "outputs": [
    {
     "name": "stdout",
     "output_type": "stream",
     "text": [
      "Fetching content from https://operating-system-in-1000-lines.vercel.app/en\n",
      "You asked: read and summarize the os article\n",
      "The article introduces building a basic operating system in 1,000 lines of code. It covers:\n",
      "\n",
      "- Simple OS functions and kernel basics.\n",
      "- Implementation of context switching, paging, user mode, a shell, and disk I/O.\n",
      "- Debugging challenges unique to OS development.\n",
      "- Requires familiarity with C and UNIX-like systems.\n",
      "- Implementation examples available on GitHub.\n",
      "\n",
      "The goal is to make OS development accessible and enjoyable.\n"
     ]
    }
   ],
   "source": [
    "\n",
    "question = input(\"What is your follow-up question?\")\n",
    "messages.append(HumanMessage(content=question))\n",
    "\n",
    "final_state = app.invoke(\n",
    "    {\"messages\": messages},\n",
    ")\n",
    "\n",
    "messages.append(final_state['messages'][-1])\n",
    "\n",
    "print(\"You asked:\", question)\n",
    "print(final_state['messages'][-1].content)"
   ]
  },
  {
   "cell_type": "code",
   "execution_count": 67,
   "metadata": {},
   "outputs": [
    {
     "name": "stdout",
     "output_type": "stream",
     "text": [
      "Fetching content from https://sourceallies.com/blog/\n",
      "1. [Better Nightly Emails through Lambda, SES, and React](https://sourceallies.com/2024/10/better-nightly-emails/)\n",
      "2. [Some fun JavaScript features for API functionality](https://sourceallies.com/2024/10/fun-javascript-features/)\n",
      "3. [The Road to Mordor: A Software Engineer’s Guide to Delivering Complex Features](https://sourceallies.com/2024/09/the-road-to-mordor/)\n",
      "4. [What Is A Delivery Lead?](https://sourceallies.com/2024/08/what-is-a-delivery-lead/)\n",
      "5. [Navigating Agentic AI Reasoning: ReAct vs ReWOO](https://sourceallies.com/2024/08/react-vs-rewoo/)\n"
     ]
    }
   ],
   "source": [
    "state = app.invoke({\"messages\": [\n",
    "\tHumanMessage(content=\"What are the recent blog posts posted by Source Allies?\"),\n",
    "]})\n",
    "\n",
    "print(state['messages'][-1].content)"
   ]
  }
 ],
 "metadata": {
  "kernelspec": {
   "display_name": ".venv",
   "language": "python",
   "name": "python3"
  },
  "language_info": {
   "codemirror_mode": {
    "name": "ipython",
    "version": 3
   },
   "file_extension": ".py",
   "mimetype": "text/x-python",
   "name": "python",
   "nbconvert_exporter": "python",
   "pygments_lexer": "ipython3",
   "version": "3.12.8"
  }
 },
 "nbformat": 4,
 "nbformat_minor": 2
}
